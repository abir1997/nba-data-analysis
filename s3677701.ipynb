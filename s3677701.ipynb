{
 "cells": [
  {
   "cell_type": "markdown",
   "metadata": {
    "id": "u-EEv9utoT69"
   },
   "source": [
    "# Task 1: Data Preparation\n",
    "\n",
    "You will start by loading the CSV data from the file (using appropriate pandas functions) and checking whether the loaded data is equivalent to the data in the source CSV file.\n",
    "\n",
    "Then, you need to clean the data by using the knowledge we taught in the lectures. You need to deal with all the potential issues/errors in the data appropriately."
   ]
  },
  {
   "cell_type": "code",
   "execution_count": null,
   "metadata": {
    "id": "Qykq4YuQtZUS"
   },
   "outputs": [],
   "source": [
    "import pandas as pd\n",
    "import matplotlib.pyplot as plt\n",
    "import numpy as np\n",
    "import math"
   ]
  },
  {
   "cell_type": "code",
   "execution_count": null,
   "metadata": {
    "id": "RhLG8LgxsFd7"
   },
   "outputs": [],
   "source": [
    "# Load the data from the file NBA_players_stats.csv using pandas library.\n",
    "data = pd.read_csv('NBA_players_stats.csv', header=0)\n",
    "data.head()"
   ]
  },
  {
   "cell_type": "code",
   "execution_count": null,
   "metadata": {
    "id": "SpCdNXgLvdtv",
    "scrolled": true
   },
   "outputs": [],
   "source": [
    "# Get all bad values\n",
    "data['Pos'] = data['Pos'].str.upper() #Since field is all uppercase\n",
    "data['Pos'] = data['Pos'].str.strip()\n",
    "\n",
    "def print_bad_pos(position_list):\n",
    "    valid_positions = [\"PF\", \"PG\", \"C\", \"SG\", \"SF\", \"PG-SG\", \"SF-PF\"]\n",
    "    for i in range(len(position_list)):\n",
    "        pos = position_list[i]\n",
    "        if pos not in valid_positions:\n",
    "            print(\"Invalid Position found. Check entry : \" + str(i - 1))\n",
    "            print(pos)\n",
    "pos_list = data['Pos']\n",
    "\n",
    "print_bad_pos(pos_list)\n",
    "\n",
    "\n",
    "def print_bad_age(age_list):\n",
    "    min_age = 19 # No NBA player can be signed before 19 years of age\n",
    "    max_age = 50 # Standard retirement age for NBA\n",
    "    for i in range(len(age_list)):\n",
    "        age = age_list[i]\n",
    "        if age < min_age or age > max_age:\n",
    "            print(\"Invalid age found. Check entry \" + str(age))\n",
    "            print(age)\n",
    "print_bad_age(data['Age'])\n",
    "\n",
    "\n",
    "data['Tm'] = data['Tm'].str.upper() #Since field is all uppercase\n",
    "data['Tm'] = data['Tm'].str.strip()\n",
    "\n",
    "def print_bad_team(team_list):\n",
    "    valid_teams = [\"MIA\", \"MIL\", \"NOP\", \"SAS\", \"PHO\", \"MEM\", \"TOT\", \"BRK\",\n",
    "    \"CLE\", \"ORL\", \"LAL\", \"POR\", \"TOR\", \"CHI\", \"WAS\", \"UTA\", \"SAC\", \"CHO\", \"NYK\", \"DEN\", \"LAC\",\n",
    "    \"GSW\", \"OKC\", \"MIN\", \"DET\", \"DAL\", \"IND\", \"ATL\", \"PHI\", \"BOS\", \"HOU\"]\n",
    "    for i in range(len(team_list)):\n",
    "        team = team_list[i]\n",
    "        if team not in valid_teams:\n",
    "            print(\"Invalid team value found. Check entry : \" + str(i))\n",
    "            print(team)\n",
    "            \n",
    "print_bad_team(data['Tm'])\n",
    "\n",
    "\n",
    "def print_bad_game(game_list):\n",
    "    max_games = 82\n",
    "    for i in range(len(game_list)):\n",
    "        game = game_list[i]\n",
    "        if game > 82:\n",
    "            print(\"Invalid Game found. Check entry : \" + str(i))\n",
    "            print(game)\n",
    "            \n",
    "print_bad_game(data['G'])\n",
    "\n",
    "\n",
    "def print_negative_number(number_list):\n",
    "    for i in range(len(number_list)):\n",
    "        n = number_list[i]\n",
    "        if n < 0:\n",
    "            print(\"Invalid number found. Check entry : \" + str(i))\n",
    "            print(n)\n",
    "\n",
    "print_negative_number(data['G'])\n",
    "print_negative_number(data['GS'])\n",
    "print_negative_number(data['MP'])\n",
    "print_negative_number(data['FG'])\n",
    "print_negative_number(data['FGA'])\n",
    "print_negative_number(data['FG%'])\n",
    "print_negative_number(data['3P'])\n",
    "print_negative_number(data['3PA'])\n",
    "\n",
    "def round_half_up(n, decimals=0):\n",
    "    multiplier = 10 ** decimals\n",
    "    return math.floor(n*multiplier + 0.5) / multiplier\n",
    "\n",
    "def print_bad_3pts_percentage():\n",
    "    temp_data = pd.DataFrame(data, columns = ['3P', '3PA', '3P%'])\n",
    "    temp_data['expected_3P%'] = (temp_data['3P'] / temp_data['3PA']).round(3)\n",
    "    temp_data['result'] = temp_data['3P%'].eq(temp_data['expected_3P%']) | np.isclose(temp_data['3P%'], \n",
    "                                                                                      temp_data['expected_3P%'], rtol = .01)\n",
    "    #print(temp_data)\n",
    "    for i in range(len(temp_data['result'])):\n",
    "        result = temp_data['result'][i]\n",
    "        if result == False:\n",
    "            if np.isnan(data['3P%'][i]): # Ignore NaN values\n",
    "                continue\n",
    "            print(\"Invalid 3P% found. Check entry : \" + str(i + 2))\n",
    "            print(temp_data.loc[i])\n",
    "            #print(data['3P%'][i])\n",
    "        \n",
    "print_bad_3pts_percentage()\n",
    "    \n",
    "print_negative_number(data['3P%'])\n",
    "\n",
    "print_negative_number(data['2P'])\n",
    "print_negative_number(data['2PA'])\n",
    "print_negative_number(data['2P%'])\n",
    "print_negative_number(data['FT'])\n",
    "print_negative_number(data['FTA'])\n",
    "print_negative_number(data['FT%'])\n",
    "print_negative_number(data['ORB'])\n",
    "print_negative_number(data['DRB'])\n",
    "\n",
    "def print_bad_rebounds(trb_list):\n",
    "    orb = data['ORB']\n",
    "    drb = data['DRB']\n",
    "    for i in range(len(trb_list)):\n",
    "        expected_trb = orb[i] + drb[i]\n",
    "        trb = trb_list[i]\n",
    "        if trb != expected_trb:\n",
    "            print(\"Invalid TRB found. Check entry : \" + str(i))\n",
    "print_bad_rebounds(data['TRB'])\n",
    "\n",
    "print_negative_number(data['TRB'])\n",
    "print_negative_number(data['AST'])\n",
    "print_negative_number(data['STL'])\n",
    "print_negative_number(data['BLK'])\n",
    "print_negative_number(data['TOV'])\n",
    "# TODO : check PF ?\n",
    "print_negative_number(data['PF'])\n",
    "\n",
    "def print_bad_pts(pts_list):\n",
    "    pts_2 = data['2P']\n",
    "    pts_3 = data['3P']\n",
    "    ft = data['FT']\n",
    "    for i in range(len(pts_list)):\n",
    "        max_pts = 2000\n",
    "        field_goal_pts_2p = pts_2[i] * 2\n",
    "        field_goal_pts_3p = pts_3[i] * 3\n",
    "        total_pts = field_goal_pts_2p + field_goal_pts_3p + ft[i]\n",
    "        pts = pts_list[i]\n",
    "        if pts != total_pts:\n",
    "            print(\"Invalid point found. Points does not equal expected points. Check entry : \" + str(i))\n",
    "            print(\"PTS should be \" + str(total_pts))\n",
    "            print(pts)\n",
    "        if pts > max_pts:\n",
    "            print(\"Invalid point found Points has exceed maximum. Check entry : \" + str(i))\n",
    "            print(pts)\n",
    "            \n",
    "print_negative_number(data['PTS'])\n",
    "print_bad_pts(data['PTS'])"
   ]
  },
  {
   "cell_type": "code",
   "execution_count": null,
   "metadata": {},
   "outputs": [],
   "source": [
    "# Fix data\n",
    "data['Pos'].replace({\"SGA\" : \"SG\", \"SF.\" : \"SF\", \"PFA\" : \"PF\"}, inplace = True)\n",
    "print_bad_pos(data['Pos'])\n",
    "\n",
    "data['Age'] = data['Age'].replace(280, 28)\n",
    "data['Age'] = data['Age'].replace(-19, 19)\n",
    "print_bad_age(data['Age'])\n",
    "\n",
    "data['Tm'].replace({\"H0U\" : \"HOU\"}, inplace = True)\n",
    "print_bad_team(data['Tm'])\n",
    "\n",
    "skip = 2\n",
    "data.iloc[5 - skip] = data.iloc[5 - skip].replace(0.05, 0.333)\n",
    "data.iloc[10 - skip] = data.iloc[10 - skip].replace(0.05, 0.5)\n",
    "data.iloc[27 - skip] = data.iloc[27 - skip].replace(0.73, 0.37)\n",
    "print_bad_3pts_percentage()\n",
    "\n",
    "data['PTS'] = data['PTS'].replace(20000, 2)\n",
    "data['PTS'] = data['PTS'].replace(28800, 288)\n",
    "print_bad_pts(data['PTS'])"
   ]
  },
  {
   "cell_type": "code",
   "execution_count": null,
   "metadata": {
    "id": "RU9Pm6LKfToO"
   },
   "outputs": [],
   "source": [
    "\"\"\"\n",
    "Make sure that you write the final cleaned dataframe object into a csv file\n",
    "XXXXX.to_csv('cleaned_NBA_players_stats.csv', index=False)\n",
    "Please replace XXXXX with your dataframe variable.\n",
    "\"\"\"\n"
   ]
  },
  {
   "cell_type": "markdown",
   "metadata": {
    "id": "r-i5aIqXpPbu"
   },
   "source": [
    "# Task 2: Data Exploration"
   ]
  },
  {
   "cell_type": "markdown",
   "metadata": {
    "id": "QOY4K_neos9j"
   },
   "source": [
    "## Task 2.1 \n",
    "Explore the players' total points: Please analyze the composition of the total points of the top five players with the most points."
   ]
  },
  {
   "cell_type": "code",
   "execution_count": null,
   "metadata": {
    "id": "ziwtOfWJn-Eh"
   },
   "outputs": [],
   "source": [
    "# Code goes after this line by adding cells\n"
   ]
  },
  {
   "cell_type": "code",
   "execution_count": null,
   "metadata": {},
   "outputs": [],
   "source": [
    "data.nlargest(5, 'PTS')"
   ]
  },
  {
   "cell_type": "markdown",
   "metadata": {
    "id": "0-HLFaWTo7Gr"
   },
   "source": [
    "## Task 2.2 \n",
    "Assuming that the data collector makes an entry error when collecting data, it can be ensured that the error occurred in the 3P, 3PA and 3P% columns, but it is not sure which player's information the error lies on. Please try to explore the error by visualization to identify how many errors there are and try to fix it.\n"
   ]
  },
  {
   "cell_type": "code",
   "execution_count": null,
   "metadata": {
    "id": "k3-8Pbi1n-Ei"
   },
   "outputs": [],
   "source": [
    "# Code goes after this line by adding cells\n"
   ]
  },
  {
   "cell_type": "markdown",
   "metadata": {
    "id": "jnasiwOAo_RP"
   },
   "source": [
    "## Task 2.3 \n",
    "Please analyze the relationship between the player's total points and the rest features (columns). Please use at least three other columns.\n"
   ]
  },
  {
   "cell_type": "code",
   "execution_count": null,
   "metadata": {
    "id": "hHsmCb2gn-Ei"
   },
   "outputs": [],
   "source": [
    "# Code goes after this line by adding cells\n"
   ]
  },
  {
   "cell_type": "code",
   "execution_count": null,
   "metadata": {},
   "outputs": [],
   "source": []
  },
  {
   "cell_type": "code",
   "execution_count": null,
   "metadata": {},
   "outputs": [],
   "source": []
  },
  {
   "cell_type": "code",
   "execution_count": null,
   "metadata": {},
   "outputs": [],
   "source": []
  },
  {
   "cell_type": "code",
   "execution_count": null,
   "metadata": {},
   "outputs": [],
   "source": []
  },
  {
   "cell_type": "code",
   "execution_count": null,
   "metadata": {},
   "outputs": [],
   "source": []
  },
  {
   "cell_type": "code",
   "execution_count": null,
   "metadata": {},
   "outputs": [],
   "source": []
  },
  {
   "cell_type": "code",
   "execution_count": null,
   "metadata": {},
   "outputs": [],
   "source": []
  },
  {
   "cell_type": "code",
   "execution_count": null,
   "metadata": {},
   "outputs": [],
   "source": []
  },
  {
   "cell_type": "code",
   "execution_count": null,
   "metadata": {},
   "outputs": [],
   "source": []
  },
  {
   "cell_type": "code",
   "execution_count": null,
   "metadata": {},
   "outputs": [],
   "source": []
  },
  {
   "cell_type": "code",
   "execution_count": null,
   "metadata": {},
   "outputs": [],
   "source": []
  },
  {
   "cell_type": "code",
   "execution_count": null,
   "metadata": {},
   "outputs": [],
   "source": []
  },
  {
   "cell_type": "code",
   "execution_count": null,
   "metadata": {},
   "outputs": [],
   "source": []
  },
  {
   "cell_type": "code",
   "execution_count": null,
   "metadata": {},
   "outputs": [],
   "source": []
  },
  {
   "cell_type": "code",
   "execution_count": null,
   "metadata": {},
   "outputs": [],
   "source": []
  },
  {
   "cell_type": "code",
   "execution_count": null,
   "metadata": {},
   "outputs": [],
   "source": []
  },
  {
   "cell_type": "code",
   "execution_count": null,
   "metadata": {},
   "outputs": [],
   "source": []
  },
  {
   "cell_type": "code",
   "execution_count": null,
   "metadata": {},
   "outputs": [],
   "source": []
  },
  {
   "cell_type": "code",
   "execution_count": null,
   "metadata": {},
   "outputs": [],
   "source": []
  },
  {
   "cell_type": "code",
   "execution_count": null,
   "metadata": {},
   "outputs": [],
   "source": []
  },
  {
   "cell_type": "code",
   "execution_count": null,
   "metadata": {},
   "outputs": [],
   "source": []
  },
  {
   "cell_type": "code",
   "execution_count": null,
   "metadata": {},
   "outputs": [],
   "source": []
  },
  {
   "cell_type": "code",
   "execution_count": null,
   "metadata": {},
   "outputs": [],
   "source": []
  },
  {
   "cell_type": "code",
   "execution_count": null,
   "metadata": {},
   "outputs": [],
   "source": []
  },
  {
   "cell_type": "code",
   "execution_count": null,
   "metadata": {},
   "outputs": [],
   "source": []
  },
  {
   "cell_type": "code",
   "execution_count": null,
   "metadata": {},
   "outputs": [],
   "source": []
  }
 ],
 "metadata": {
  "colab": {
   "collapsed_sections": [],
   "name": "assignment1_TEMPLATE.ipynb",
   "provenance": [],
   "toc_visible": true
  },
  "kernelspec": {
   "display_name": "Python 3",
   "language": "python",
   "name": "python3"
  },
  "language_info": {
   "codemirror_mode": {
    "name": "ipython",
    "version": 3
   },
   "file_extension": ".py",
   "mimetype": "text/x-python",
   "name": "python",
   "nbconvert_exporter": "python",
   "pygments_lexer": "ipython3",
   "version": "3.8.5"
  }
 },
 "nbformat": 4,
 "nbformat_minor": 1
}
