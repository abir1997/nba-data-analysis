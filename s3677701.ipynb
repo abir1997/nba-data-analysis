{
 "cells": [
  {
   "cell_type": "markdown",
   "metadata": {
    "id": "u-EEv9utoT69"
   },
   "source": [
    "# Task 1: Data Preparation\n",
    "\n",
    "You will start by loading the CSV data from the file (using appropriate pandas functions) and checking whether the loaded data is equivalent to the data in the source CSV file.\n",
    "\n",
    "Then, you need to clean the data by using the knowledge we taught in the lectures. You need to deal with all the potential issues/errors in the data appropriately."
   ]
  },
  {
   "cell_type": "code",
   "execution_count": 56,
   "metadata": {
    "id": "Qykq4YuQtZUS"
   },
   "outputs": [],
   "source": [
    "import pandas as pd\n",
    "import matplotlib.pyplot as plt\n",
    "import numpy as np\n",
    "import math"
   ]
  },
  {
   "cell_type": "code",
   "execution_count": 57,
   "metadata": {
    "id": "RhLG8LgxsFd7"
   },
   "outputs": [
    {
     "data": {
      "text/html": [
       "<div>\n",
       "<style scoped>\n",
       "    .dataframe tbody tr th:only-of-type {\n",
       "        vertical-align: middle;\n",
       "    }\n",
       "\n",
       "    .dataframe tbody tr th {\n",
       "        vertical-align: top;\n",
       "    }\n",
       "\n",
       "    .dataframe thead th {\n",
       "        text-align: right;\n",
       "    }\n",
       "</style>\n",
       "<table border=\"1\" class=\"dataframe\">\n",
       "  <thead>\n",
       "    <tr style=\"text-align: right;\">\n",
       "      <th></th>\n",
       "      <th>Rk</th>\n",
       "      <th>Player</th>\n",
       "      <th>Pos</th>\n",
       "      <th>Age</th>\n",
       "      <th>Tm</th>\n",
       "      <th>G</th>\n",
       "      <th>GS</th>\n",
       "      <th>MP</th>\n",
       "      <th>FG</th>\n",
       "      <th>FGA</th>\n",
       "      <th>...</th>\n",
       "      <th>FT%</th>\n",
       "      <th>ORB</th>\n",
       "      <th>DRB</th>\n",
       "      <th>TRB</th>\n",
       "      <th>AST</th>\n",
       "      <th>STL</th>\n",
       "      <th>BLK</th>\n",
       "      <th>TOV</th>\n",
       "      <th>PF</th>\n",
       "      <th>PTS</th>\n",
       "    </tr>\n",
       "  </thead>\n",
       "  <tbody>\n",
       "    <tr>\n",
       "      <th>0</th>\n",
       "      <td>1</td>\n",
       "      <td>Precious Achiuwa</td>\n",
       "      <td>PF</td>\n",
       "      <td>21</td>\n",
       "      <td>MIA</td>\n",
       "      <td>35</td>\n",
       "      <td>2</td>\n",
       "      <td>491</td>\n",
       "      <td>84</td>\n",
       "      <td>145</td>\n",
       "      <td>...</td>\n",
       "      <td>0.543</td>\n",
       "      <td>46</td>\n",
       "      <td>95</td>\n",
       "      <td>141</td>\n",
       "      <td>20</td>\n",
       "      <td>15</td>\n",
       "      <td>19</td>\n",
       "      <td>32</td>\n",
       "      <td>58</td>\n",
       "      <td>212</td>\n",
       "    </tr>\n",
       "    <tr>\n",
       "      <th>1</th>\n",
       "      <td>2</td>\n",
       "      <td>Jaylen Adams</td>\n",
       "      <td>PG</td>\n",
       "      <td>24</td>\n",
       "      <td>MIL</td>\n",
       "      <td>7</td>\n",
       "      <td>0</td>\n",
       "      <td>18</td>\n",
       "      <td>1</td>\n",
       "      <td>8</td>\n",
       "      <td>...</td>\n",
       "      <td>NaN</td>\n",
       "      <td>0</td>\n",
       "      <td>3</td>\n",
       "      <td>3</td>\n",
       "      <td>2</td>\n",
       "      <td>0</td>\n",
       "      <td>0</td>\n",
       "      <td>0</td>\n",
       "      <td>1</td>\n",
       "      <td>20000</td>\n",
       "    </tr>\n",
       "    <tr>\n",
       "      <th>2</th>\n",
       "      <td>3</td>\n",
       "      <td>Steven Adams</td>\n",
       "      <td>C</td>\n",
       "      <td>27</td>\n",
       "      <td>NOP</td>\n",
       "      <td>33</td>\n",
       "      <td>33</td>\n",
       "      <td>918</td>\n",
       "      <td>115</td>\n",
       "      <td>187</td>\n",
       "      <td>...</td>\n",
       "      <td>0.443</td>\n",
       "      <td>133</td>\n",
       "      <td>161</td>\n",
       "      <td>294</td>\n",
       "      <td>69</td>\n",
       "      <td>29</td>\n",
       "      <td>20</td>\n",
       "      <td>50</td>\n",
       "      <td>63</td>\n",
       "      <td>265</td>\n",
       "    </tr>\n",
       "    <tr>\n",
       "      <th>3</th>\n",
       "      <td>4</td>\n",
       "      <td>Bam Adebayo</td>\n",
       "      <td>C</td>\n",
       "      <td>23</td>\n",
       "      <td>MIA</td>\n",
       "      <td>33</td>\n",
       "      <td>33</td>\n",
       "      <td>1119</td>\n",
       "      <td>236</td>\n",
       "      <td>419</td>\n",
       "      <td>...</td>\n",
       "      <td>0.847</td>\n",
       "      <td>72</td>\n",
       "      <td>241</td>\n",
       "      <td>313</td>\n",
       "      <td>179</td>\n",
       "      <td>29</td>\n",
       "      <td>34</td>\n",
       "      <td>98</td>\n",
       "      <td>80</td>\n",
       "      <td>634</td>\n",
       "    </tr>\n",
       "    <tr>\n",
       "      <th>4</th>\n",
       "      <td>5</td>\n",
       "      <td>LaMarcus Aldridge</td>\n",
       "      <td>C</td>\n",
       "      <td>35</td>\n",
       "      <td>SAS</td>\n",
       "      <td>21</td>\n",
       "      <td>18</td>\n",
       "      <td>544</td>\n",
       "      <td>115</td>\n",
       "      <td>248</td>\n",
       "      <td>...</td>\n",
       "      <td>0.838</td>\n",
       "      <td>17</td>\n",
       "      <td>77</td>\n",
       "      <td>94</td>\n",
       "      <td>36</td>\n",
       "      <td>8</td>\n",
       "      <td>18</td>\n",
       "      <td>20</td>\n",
       "      <td>36</td>\n",
       "      <td>28800</td>\n",
       "    </tr>\n",
       "  </tbody>\n",
       "</table>\n",
       "<p>5 rows × 29 columns</p>\n",
       "</div>"
      ],
      "text/plain": [
       "   Rk             Player Pos  Age    Tm   G  GS    MP   FG  FGA  ...    FT%  \\\n",
       "0   1   Precious Achiuwa  PF   21   MIA  35   2   491   84  145  ...  0.543   \n",
       "1   2       Jaylen Adams  PG   24   MIL   7   0    18    1    8  ...    NaN   \n",
       "2   3       Steven Adams   C   27   NOP  33  33   918  115  187  ...  0.443   \n",
       "3   4        Bam Adebayo   C   23   MIA  33  33  1119  236  419  ...  0.847   \n",
       "4   5  LaMarcus Aldridge   C   35  SAS   21  18   544  115  248  ...  0.838   \n",
       "\n",
       "   ORB  DRB  TRB  AST  STL  BLK  TOV  PF    PTS  \n",
       "0   46   95  141   20   15   19   32  58    212  \n",
       "1    0    3    3    2    0    0    0   1  20000  \n",
       "2  133  161  294   69   29   20   50  63    265  \n",
       "3   72  241  313  179   29   34   98  80    634  \n",
       "4   17   77   94   36    8   18   20  36  28800  \n",
       "\n",
       "[5 rows x 29 columns]"
      ]
     },
     "execution_count": 57,
     "metadata": {},
     "output_type": "execute_result"
    }
   ],
   "source": [
    "# Load the data from the file NBA_players_stats.csv using pandas library.\n",
    "data = pd.read_csv('NBA_players_stats.csv', header=0)\n",
    "data.head()"
   ]
  },
  {
   "cell_type": "code",
   "execution_count": 70,
   "metadata": {
    "id": "SpCdNXgLvdtv",
    "scrolled": true
   },
   "outputs": [
    {
     "name": "stdout",
     "output_type": "stream",
     "text": [
      "Invalid Position found. Check entry : 38\n",
      "SGA\n",
      "Invalid Position found. Check entry : 60\n",
      "SF.\n",
      "Invalid Position found. Check entry : 66\n",
      "PFA\n",
      "Invalid age found. Check entry 280\n",
      "280\n",
      "Invalid age found. Check entry -19\n",
      "-19\n",
      "Invalid team value found. Check entry : 449\n",
      "H0U\n",
      "Invalid 3P% found. Check entry : 4\n",
      "3P                  2\n",
      "3PA                 6\n",
      "3P%              0.05\n",
      "expected_3P%    0.333\n",
      "result          False\n",
      "Name: 3, dtype: object\n",
      "Invalid 3P% found. Check entry : 9\n",
      "3P                  4\n",
      "3PA                 8\n",
      "3P%              0.05\n",
      "expected_3P%      0.5\n",
      "result          False\n",
      "Name: 8, dtype: object\n",
      "Invalid 3P% found. Check entry : 26\n",
      "3P                 34\n",
      "3PA                92\n",
      "3P%              0.73\n",
      "expected_3P%     0.37\n",
      "result          False\n",
      "Name: 25, dtype: object\n"
     ]
    }
   ],
   "source": [
    "# Get all bad values\n",
    "data['Pos'] = data['Pos'].str.upper() #Since field is all uppercase\n",
    "data['Pos'] = data['Pos'].str.strip()\n",
    "\n",
    "def print_bad_pos(position_list):\n",
    "    valid_positions = [\"PF\", \"PG\", \"C\", \"SG\", \"SF\", \"PG-SG\", \"SF-PF\"]\n",
    "    for i in range(len(position_list)):\n",
    "        pos = position_list[i]\n",
    "        if pos not in valid_positions:\n",
    "            print(\"Invalid Position found. Check entry : \" + str(i))\n",
    "            print(pos)\n",
    "pos_list = data['Pos']\n",
    "\n",
    "print_bad_pos(pos_list)\n",
    "\n",
    "\n",
    "def print_bad_age(age_list):\n",
    "    min_age = 19 # No NBA player can be signed before 19 years of age\n",
    "    max_age = 50 # Standard retirement age for NBA\n",
    "    for i in range(len(age_list)):\n",
    "        age = age_list[i]\n",
    "        if age < min_age or age > max_age:\n",
    "            print(\"Invalid age found. Check entry \" + str(age))\n",
    "            print(age)\n",
    "print_bad_age(data['Age'])\n",
    "\n",
    "\n",
    "data['Tm'] = data['Tm'].str.upper() #Since field is all uppercase\n",
    "data['Tm'] = data['Tm'].str.strip()\n",
    "\n",
    "def print_bad_team(team_list):\n",
    "    valid_teams = [\"MIA\", \"MIL\", \"NOP\", \"SAS\", \"PHO\", \"MEM\", \"TOT\", \"BRK\",\n",
    "    \"CLE\", \"ORL\", \"LAL\", \"POR\", \"TOR\", \"CHI\", \"WAS\", \"UTA\", \"SAC\", \"CHO\", \"NYK\", \"DEN\", \"LAC\",\n",
    "    \"GSW\", \"OKC\", \"MIN\", \"DET\", \"DAL\", \"IND\", \"ATL\", \"PHI\", \"BOS\", \"HOU\"]\n",
    "    for i in range(len(team_list)):\n",
    "        team = team_list[i]\n",
    "        if team not in valid_teams:\n",
    "            print(\"Invalid team value found. Check entry : \" + str(i))\n",
    "            print(team)\n",
    "            \n",
    "print_bad_team(data['Tm'])\n",
    "\n",
    "\n",
    "def print_bad_game(game_list):\n",
    "    max_games = 82\n",
    "    for i in range(len(game_list)):\n",
    "        game = game_list[i]\n",
    "        if game > 82:\n",
    "            print(\"Invalid Game found. Check entry : \" + str(i))\n",
    "            print(game)\n",
    "            \n",
    "print_bad_game(data['G'])\n",
    "\n",
    "\n",
    "def print_negative_number(number_list):\n",
    "    for i in range(len(number_list)):\n",
    "        n = number_list[i]\n",
    "        if n < 0:\n",
    "            print(\"Invalid number found. Check entry : \" + str(i))\n",
    "            print(n)\n",
    "\n",
    "print_negative_number(data['G'])\n",
    "print_negative_number(data['GS'])\n",
    "print_negative_number(data['MP'])\n",
    "print_negative_number(data['FG'])\n",
    "print_negative_number(data['FGA'])\n",
    "print_negative_number(data['FG%'])\n",
    "print_negative_number(data['3P'])\n",
    "print_negative_number(data['3PA'])\n",
    "\n",
    "def round_half_up(n, decimals=0):\n",
    "    multiplier = 10 ** decimals\n",
    "    return math.floor(n*multiplier + 0.5) / multiplier\n",
    "\n",
    "def print_bad_3pts_percentage():\n",
    "    temp_data = pd.DataFrame(data, columns = ['3P', '3PA', '3P%'])\n",
    "    temp_data['expected_3P%'] = (temp_data['3P'] / temp_data['3PA']).round(3)\n",
    "    temp_data['result'] = temp_data['3P%'].eq(temp_data['expected_3P%']) | np.isclose(temp_data['3P%'], \n",
    "                                                                                      temp_data['expected_3P%'], rtol = .01)\n",
    "    #print(temp_data)\n",
    "    for i in range(len(temp_data['result'])):\n",
    "        result = temp_data['result'][i]\n",
    "        if result == False:\n",
    "            if np.isnan(data['3P%'][i]): # Ignore NaN values\n",
    "                continue\n",
    "            print(\"Invalid 3P% found. Check entry : \" + str(i + 1))\n",
    "            print(temp_data.loc[i])\n",
    "            #print(data['3P%'][i])\n",
    "        \n",
    "print_bad_3pts_percentage()\n",
    "    \n",
    "print_negative_number(data['3P%'])\n",
    "\n",
    "print_negative_number(data['2P'])\n",
    "print_negative_number(data['2PA'])\n",
    "print_negative_number(data['2P%'])\n",
    "print_negative_number(data['FT'])\n",
    "print_negative_number(data['FTA'])\n",
    "print_negative_number(data['FT%'])\n",
    "print_negative_number(data['ORB'])\n",
    "print_negative_number(data['DRB'])\n",
    "\n",
    "def print_bad_rebounds(trb_list):\n",
    "    orb = data['ORB']\n",
    "    drb = data['DRB']\n",
    "    for i in range(len(trb_list)):\n",
    "        expected_trb = orb[i] + drb[i]\n",
    "        trb = trb_list[i]\n",
    "        if trb != expected_trb:\n",
    "            print(\"Invalid TRB found. Check entry : \" + str(i))\n",
    "print_bad_rebounds(data['TRB'])\n",
    "\n",
    "print_negative_number(data['TRB'])\n",
    "print_negative_number(data['AST'])\n",
    "print_negative_number(data['STL'])\n",
    "print_negative_number(data['BLK'])\n",
    "print_negative_number(data['TOV'])\n",
    "# TODO : check PF ?\n",
    "print_negative_number(data['PF'])\n",
    "\n",
    "def print_bad_pts(pts_list):\n",
    "    pts_2 = data['2P']\n",
    "    pts_3 = data['3P']\n",
    "    ft = data['FT']\n",
    "    for i in range(len(pts_list)):\n",
    "        max_pts = 2000\n",
    "        field_goal_pts_2p = pts_2[i] * 2\n",
    "        field_goal_pts_3p = pts_3[i] * 3\n",
    "        total_pts = field_goal_pts_2p + field_goal_pts_3p + ft[i]\n",
    "        pts = pts_list[i]\n",
    "        if pts != total_pts:\n",
    "            print(\"Invalid point found. Points does not equal expected points. Check entry : \" + str(i))\n",
    "            print(pts)\n",
    "        if pts > max_pts:\n",
    "            print(\"Invalid point found Points has exceed maximum. Check entry : \" + str(i))\n",
    "            print(pts)\n",
    "            \n",
    "print_negative_number(data['PTS'])\n",
    "#print_bad_pts(data['PTS'])"
   ]
  },
  {
   "cell_type": "code",
   "execution_count": 4,
   "metadata": {},
   "outputs": [],
   "source": [
    "# Fix data\n"
   ]
  },
  {
   "cell_type": "code",
   "execution_count": 5,
   "metadata": {
    "id": "RU9Pm6LKfToO"
   },
   "outputs": [
    {
     "data": {
      "text/plain": [
       "\"\\nMake sure that you write the final cleaned dataframe object into a csv file\\nXXXXX.to_csv('cleaned_NBA_players_stats.csv', index=False)\\nPlease replace XXXXX with your dataframe variable.\\n\""
      ]
     },
     "execution_count": 5,
     "metadata": {},
     "output_type": "execute_result"
    }
   ],
   "source": [
    "\"\"\"\n",
    "Make sure that you write the final cleaned dataframe object into a csv file\n",
    "XXXXX.to_csv('cleaned_NBA_players_stats.csv', index=False)\n",
    "Please replace XXXXX with your dataframe variable.\n",
    "\"\"\"\n"
   ]
  },
  {
   "cell_type": "markdown",
   "metadata": {
    "id": "r-i5aIqXpPbu"
   },
   "source": [
    "# Task 2: Data Exploration"
   ]
  },
  {
   "cell_type": "markdown",
   "metadata": {
    "id": "QOY4K_neos9j"
   },
   "source": [
    "## Task 2.1 \n",
    "Explore the players' total points: Please analyze the composition of the total points of the top five players with the most points."
   ]
  },
  {
   "cell_type": "code",
   "execution_count": 6,
   "metadata": {
    "id": "ziwtOfWJn-Eh"
   },
   "outputs": [],
   "source": [
    "# Code goes after this line by adding cells\n"
   ]
  },
  {
   "cell_type": "markdown",
   "metadata": {
    "id": "0-HLFaWTo7Gr"
   },
   "source": [
    "## Task 2.2 \n",
    "Assuming that the data collector makes an entry error when collecting data, it can be ensured that the error occurred in the 3P, 3PA and 3P% columns, but it is not sure which player's information the error lies on. Please try to explore the error by visualization to identify how many errors there are and try to fix it.\n"
   ]
  },
  {
   "cell_type": "code",
   "execution_count": 7,
   "metadata": {
    "id": "k3-8Pbi1n-Ei"
   },
   "outputs": [],
   "source": [
    "# Code goes after this line by adding cells\n"
   ]
  },
  {
   "cell_type": "markdown",
   "metadata": {
    "id": "jnasiwOAo_RP"
   },
   "source": [
    "## Task 2.3 \n",
    "Please analyze the relationship between the player's total points and the rest features (columns). Please use at least three other columns.\n"
   ]
  },
  {
   "cell_type": "code",
   "execution_count": 8,
   "metadata": {
    "id": "hHsmCb2gn-Ei"
   },
   "outputs": [],
   "source": [
    "# Code goes after this line by adding cells\n"
   ]
  },
  {
   "cell_type": "code",
   "execution_count": null,
   "metadata": {},
   "outputs": [],
   "source": []
  },
  {
   "cell_type": "code",
   "execution_count": null,
   "metadata": {},
   "outputs": [],
   "source": []
  },
  {
   "cell_type": "code",
   "execution_count": null,
   "metadata": {},
   "outputs": [],
   "source": []
  },
  {
   "cell_type": "code",
   "execution_count": null,
   "metadata": {},
   "outputs": [],
   "source": []
  },
  {
   "cell_type": "code",
   "execution_count": null,
   "metadata": {},
   "outputs": [],
   "source": []
  },
  {
   "cell_type": "code",
   "execution_count": null,
   "metadata": {},
   "outputs": [],
   "source": []
  },
  {
   "cell_type": "code",
   "execution_count": null,
   "metadata": {},
   "outputs": [],
   "source": []
  },
  {
   "cell_type": "code",
   "execution_count": null,
   "metadata": {},
   "outputs": [],
   "source": []
  },
  {
   "cell_type": "code",
   "execution_count": null,
   "metadata": {},
   "outputs": [],
   "source": []
  },
  {
   "cell_type": "code",
   "execution_count": null,
   "metadata": {},
   "outputs": [],
   "source": []
  },
  {
   "cell_type": "code",
   "execution_count": null,
   "metadata": {},
   "outputs": [],
   "source": []
  },
  {
   "cell_type": "code",
   "execution_count": null,
   "metadata": {},
   "outputs": [],
   "source": []
  },
  {
   "cell_type": "code",
   "execution_count": null,
   "metadata": {},
   "outputs": [],
   "source": []
  },
  {
   "cell_type": "code",
   "execution_count": null,
   "metadata": {},
   "outputs": [],
   "source": []
  },
  {
   "cell_type": "code",
   "execution_count": null,
   "metadata": {},
   "outputs": [],
   "source": []
  },
  {
   "cell_type": "code",
   "execution_count": null,
   "metadata": {},
   "outputs": [],
   "source": []
  },
  {
   "cell_type": "code",
   "execution_count": null,
   "metadata": {},
   "outputs": [],
   "source": []
  },
  {
   "cell_type": "code",
   "execution_count": null,
   "metadata": {},
   "outputs": [],
   "source": []
  },
  {
   "cell_type": "code",
   "execution_count": null,
   "metadata": {},
   "outputs": [],
   "source": []
  },
  {
   "cell_type": "code",
   "execution_count": null,
   "metadata": {},
   "outputs": [],
   "source": []
  },
  {
   "cell_type": "code",
   "execution_count": null,
   "metadata": {},
   "outputs": [],
   "source": []
  },
  {
   "cell_type": "code",
   "execution_count": null,
   "metadata": {},
   "outputs": [],
   "source": []
  },
  {
   "cell_type": "code",
   "execution_count": null,
   "metadata": {},
   "outputs": [],
   "source": []
  },
  {
   "cell_type": "code",
   "execution_count": null,
   "metadata": {},
   "outputs": [],
   "source": []
  },
  {
   "cell_type": "code",
   "execution_count": null,
   "metadata": {},
   "outputs": [],
   "source": []
  },
  {
   "cell_type": "code",
   "execution_count": null,
   "metadata": {},
   "outputs": [],
   "source": []
  }
 ],
 "metadata": {
  "colab": {
   "collapsed_sections": [],
   "name": "assignment1_TEMPLATE.ipynb",
   "provenance": [],
   "toc_visible": true
  },
  "kernelspec": {
   "display_name": "Python 3",
   "language": "python",
   "name": "python3"
  },
  "language_info": {
   "codemirror_mode": {
    "name": "ipython",
    "version": 3
   },
   "file_extension": ".py",
   "mimetype": "text/x-python",
   "name": "python",
   "nbconvert_exporter": "python",
   "pygments_lexer": "ipython3",
   "version": "3.8.5"
  }
 },
 "nbformat": 4,
 "nbformat_minor": 1
}
